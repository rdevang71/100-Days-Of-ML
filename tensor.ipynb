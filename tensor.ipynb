{
 "cells": [
  {
   "cell_type": "markdown",
   "id": "5608cc75",
   "metadata": {},
   "source": [
    "0 D tensor"
   ]
  },
  {
   "cell_type": "code",
   "execution_count": 3,
   "id": "62bef86b",
   "metadata": {},
   "outputs": [],
   "source": [
    "import numpy as np\n",
    "a = np.array(3)"
   ]
  },
  {
   "cell_type": "code",
   "execution_count": 4,
   "id": "6ecd047e",
   "metadata": {},
   "outputs": [
    {
     "data": {
      "text/plain": [
       "0"
      ]
     },
     "execution_count": 4,
     "metadata": {},
     "output_type": "execute_result"
    }
   ],
   "source": [
    "a\n",
    "a.ndim"
   ]
  },
  {
   "cell_type": "markdown",
   "id": "909a1625",
   "metadata": {},
   "source": []
  }
 ],
 "metadata": {
  "kernelspec": {
   "display_name": "base",
   "language": "python",
   "name": "python3"
  },
  "language_info": {
   "codemirror_mode": {
    "name": "ipython",
    "version": 3
   },
   "file_extension": ".py",
   "mimetype": "text/x-python",
   "name": "python",
   "nbconvert_exporter": "python",
   "pygments_lexer": "ipython3",
   "version": "3.13.5"
  }
 },
 "nbformat": 4,
 "nbformat_minor": 5
}
